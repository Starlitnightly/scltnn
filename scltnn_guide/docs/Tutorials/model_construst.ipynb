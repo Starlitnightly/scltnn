{
 "cells": [
  {
   "cell_type": "markdown",
   "metadata": {},
   "source": [
    "# Stage 1: Model Construst\n",
    "\n",
    "In this tutorial, we will show how to train a LTNN model to predict the origin and end cell. \n",
    "\n",
    "If you want to try the scltnn algorithm directly, you can also use our [trained model](https://github.com/Starlitnightly/scltnn/tree/main/model), which is trained on bladder data, and although our tests show its ability to generalise across species and tissues, we recommend that you train your own LTNN model."
   ]
  },
  {
   "cell_type": "code",
   "execution_count": 1,
   "metadata": {},
   "outputs": [],
   "source": [
    "import scltnn\n",
    "import scanpy as sc\n",
    "import scvelo as scv\n",
    "import anndata\n",
    "import numpy as np\n"
   ]
  },
  {
   "cell_type": "code",
   "execution_count": 2,
   "metadata": {},
   "outputs": [],
   "source": [
    "import omicverse as ov\n",
    "ov.utils.ov_plot_set()"
   ]
  },
  {
   "cell_type": "markdown",
   "metadata": {},
   "source": [
    "## Data prepare\n",
    "\n",
    "We need to calculate the lsi of cells from anndata of scRNA-seq, and exact the high variable genes\n",
    "\n",
    "> **notice**: \n",
    "> \n",
    "> the anndata need to calculate velocity and latent time, See [scvelo's tutorial](https://scvelo.readthedocs.io/) for detailed calculations"
   ]
  },
  {
   "cell_type": "code",
   "execution_count": 3,
   "metadata": {},
   "outputs": [
    {
     "data": {
      "text/plain": [
       "AnnData object with n_obs × n_vars = 3696 × 27998\n",
       "    obs: 'clusters_coarse', 'clusters', 'S_score', 'G2M_score', 'initial_size_spliced', 'initial_size_unspliced', 'initial_size', 'n_counts', 'velocity_self_transition', 'phase', 'velocity_length', 'velocity_confidence', 'velocity_confidence_transition', 'root_cells', 'end_points', 'velocity_pseudotime', 'latent_time'\n",
       "    var: 'highly_variable_genes'\n",
       "    uns: 'clusters_coarse_colors', 'clusters_colors', 'day_colors', 'neighbors', 'pca'\n",
       "    obsm: 'X_pca', 'X_umap'\n",
       "    layers: 'spliced', 'unspliced'\n",
       "    obsp: 'connectivities', 'distances'"
      ]
     },
     "execution_count": 3,
     "metadata": {},
     "output_type": "execute_result"
    }
   ],
   "source": [
    "adata=sc.read_h5ad('../../data/Pancreas-velocyto.h5ad')\n",
    "adata"
   ]
  },
  {
   "cell_type": "code",
   "execution_count": 4,
   "metadata": {},
   "outputs": [
    {
     "name": "stdout",
     "output_type": "stream",
     "text": [
      "Calculate QC metrics\n",
      "End calculation of QC metrics.\n",
      "Original cell number: 3696\n",
      "Begin of post doublets removal and QC plot\n",
      "Running Scrublet\n",
      "filtered out 12261 genes that are detected in less than 3 cells\n",
      "normalizing counts per cell\n",
      "    finished (0:00:00)\n",
      "extracting highly variable genes\n",
      "    finished (0:00:00)\n",
      "--> added\n",
      "    'highly_variable', boolean vector (adata.var)\n",
      "    'means', float vector (adata.var)\n",
      "    'dispersions', float vector (adata.var)\n",
      "    'dispersions_norm', float vector (adata.var)\n",
      "normalizing counts per cell\n",
      "    finished (0:00:00)\n",
      "normalizing counts per cell\n",
      "    finished (0:00:00)\n",
      "Embedding transcriptomes using PCA...\n",
      "Automatically set threshold at doublet score = 0.36\n",
      "Detected doublet rate = 0.2%\n",
      "Estimated detectable doublet fraction = 56.0%\n",
      "Overall doublet rate:\n",
      "\tExpected   = 5.0%\n",
      "\tEstimated  = 0.4%\n",
      "    Scrublet finished (0:00:04)\n",
      "Cells retained after scrublet: 3688, 8 removed.\n",
      "End of post doublets removal and QC plots.\n",
      "Filters application (seurat or mads)\n",
      "Lower treshold, nUMIs: 500; filtered-out-cells: 0\n",
      "Lower treshold, n genes: 250; filtered-out-cells: 0\n",
      "Lower treshold, mito %: 0.2; filtered-out-cells: 0\n",
      "Filters applicated.\n",
      "Total cell filtered out with this last --mode seurat QC (and its chosen options): 0\n",
      "Cells retained after scrublet and seurat filtering: 3688, 8 removed.\n",
      "filtered out 12263 genes that are detected in less than 3 cells\n",
      "Begin robust gene identification\n",
      "After filtration, 15735/15735 genes are kept. Among 15735 genes, 15735 genes are robust.\n",
      "End of robust gene identification.\n",
      "Begin size normalization: shiftlog and HVGs selection pearson\n",
      "normalizing counts per cell The following highly-expressed genes are not considered during normalization factor computation:\n",
      "['Ghrl']\n",
      "    finished (0:00:00)\n",
      "extracting highly variable genes\n",
      "--> added\n",
      "    'highly_variable', boolean vector (adata.var)\n",
      "    'highly_variable_rank', float vector (adata.var)\n",
      "    'highly_variable_nbatches', int vector (adata.var)\n",
      "    'highly_variable_intersection', boolean vector (adata.var)\n",
      "    'means', float vector (adata.var)\n",
      "    'variances', float vector (adata.var)\n",
      "    'residual_variances', float vector (adata.var)\n",
      "End of size normalization: shiftlog and HVGs selection pearson\n"
     ]
    }
   ],
   "source": [
    "adata=ov.pp.qc(adata,\n",
    "              tresh={'mito_perc': 0.2, 'nUMIs': 500, 'detected_genes': 250})\n",
    "adata=ov.pp.preprocess(adata,mode='shiftlog|pearson',n_HVGs=3000,)"
   ]
  },
  {
   "cell_type": "code",
   "execution_count": 5,
   "metadata": {},
   "outputs": [
    {
     "data": {
      "text/plain": [
       "View of AnnData object with n_obs × n_vars = 3688 × 3000\n",
       "    obs: 'clusters_coarse', 'clusters', 'S_score', 'G2M_score', 'initial_size_spliced', 'initial_size_unspliced', 'initial_size', 'n_counts', 'velocity_self_transition', 'phase', 'velocity_length', 'velocity_confidence', 'velocity_confidence_transition', 'root_cells', 'end_points', 'velocity_pseudotime', 'latent_time', 'nUMIs', 'mito_perc', 'detected_genes', 'cell_complexity', 'doublet_score', 'predicted_doublet', 'passing_mt', 'passing_nUMIs', 'passing_ngenes', 'n_genes'\n",
       "    var: 'highly_variable_genes', 'mt', 'n_cells', 'percent_cells', 'robust', 'mean', 'var', 'residual_variances', 'highly_variable_rank', 'highly_variable_features'\n",
       "    uns: 'clusters_coarse_colors', 'clusters_colors', 'day_colors', 'neighbors', 'pca', 'scrublet', 'log1p', 'hvg'\n",
       "    obsm: 'X_pca', 'X_umap'\n",
       "    layers: 'spliced', 'unspliced', 'counts'\n",
       "    obsp: 'connectivities', 'distances'"
      ]
     },
     "execution_count": 5,
     "metadata": {},
     "output_type": "execute_result"
    }
   ],
   "source": [
    "adata=adata[:,adata.var['highly_variable_features']==True]\n",
    "adata"
   ]
  },
  {
   "cell_type": "code",
   "execution_count": 6,
   "metadata": {},
   "outputs": [],
   "source": [
    "scltnn.lsi(adata, n_components=20, n_iter=15)"
   ]
  },
  {
   "cell_type": "markdown",
   "metadata": {},
   "source": [
    "## Training Data split\n",
    "\n",
    "We random selected 80% of cells as training dataset, and 20% of cells as test dataset"
   ]
  },
  {
   "cell_type": "code",
   "execution_count": 10,
   "metadata": {},
   "outputs": [],
   "source": [
    "ltnn_obj=scltnn.scLTNN(adata,basis='X_lsi',input_dim=20,cpu='cpu')"
   ]
  },
  {
   "cell_type": "code",
   "execution_count": null,
   "metadata": {},
   "outputs": [
    {
     "name": "stderr",
     "output_type": "stream",
     "text": [
      "Pre-ANN model:  40%|▍| 81/200 [00:25<00:37,  3.21it/s, val loss, val mae=0.00069, 0."
     ]
    }
   ],
   "source": [
    "ltnn_obj.ANNmodel_init(pseudotime='latent_time',batch_size=20,)\n",
    "ltnn_obj.ANNmodel_train(n_epochs=200)\n"
   ]
  },
  {
   "cell_type": "markdown",
   "metadata": {},
   "source": [
    "## Model save\n",
    "\n",
    "We now save the model objects for after analysis."
   ]
  },
  {
   "cell_type": "code",
   "execution_count": null,
   "metadata": {},
   "outputs": [],
   "source": [
    "ltnn_obj.ANNmodel_save('model/model_20.h5')"
   ]
  },
  {
   "cell_type": "markdown",
   "metadata": {},
   "source": [
    "For LTNN time predicted, please refer to [Latent time predicted by scLTNN](https://scltnn.readthedocs.io/en/latest/Tutorials/human_CD8.html)"
   ]
  }
 ],
 "metadata": {
  "kernelspec": {
   "display_name": "Python 3 (ipykernel)",
   "language": "python",
   "name": "python3"
  },
  "language_info": {
   "codemirror_mode": {
    "name": "ipython",
    "version": 3
   },
   "file_extension": ".py",
   "mimetype": "text/x-python",
   "name": "python",
   "nbconvert_exporter": "python",
   "pygments_lexer": "ipython3",
   "version": "3.8.13"
  }
 },
 "nbformat": 4,
 "nbformat_minor": 4
}
